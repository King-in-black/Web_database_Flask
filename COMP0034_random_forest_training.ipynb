{
 "nbformat": 4,
 "nbformat_minor": 0,
 "metadata": {
  "colab": {
   "provenance": [],
   "machine_shape": "hm",
   "gpuType": "A100"
  },
  "kernelspec": {
   "name": "python3",
   "display_name": "Python 3"
  },
  "language_info": {
   "name": "python"
  },
  "accelerator": "GPU"
 },
 "cells": [
  {
   "cell_type": "markdown",
   "source": [
    "# import libs"
   ],
   "metadata": {
    "id": "kHsqhN0cG3to"
   }
  },
  {
   "cell_type": "code",
   "execution_count": null,
   "metadata": {
    "id": "U8-mHoytGn5N",
    "is_executing": true
   },
   "outputs": [],
   "source": [
    "import pandas as pd\n",
    "import numpy as np\n",
    "import keras\n",
    "import sklearn.preprocessing\n",
    "from imblearn.over_sampling import SMOTE\n",
    "import pickle"
   ]
  },
  {
   "cell_type": "markdown",
   "source": [
    "#Read_csv"
   ],
   "metadata": {
    "id": "cqOTWdmAG6IO"
   }
  },
  {
   "cell_type": "code",
   "source": [
    "df = pd.read_csv('data.csv',index_col=0)\n",
    "df=df.drop(columns='timestamp')\n",
    "X = df.iloc[:,:-1].values## read values apart from the last comlumn\n",
    "y = df.iloc[:,-1].values## read the last column"
   ],
   "metadata": {
    "id": "M0k_WpHzHJ4t",
    "is_executing": true
   },
   "execution_count": null,
   "outputs": []
  },
  {
   "cell_type": "markdown",
   "source": [
    "# preprocess"
   ],
   "metadata": {
    "id": "OIQ0Br1bKf-m"
   }
  },
  {
   "cell_type": "code",
   "source": [
    "scalar = sklearn.preprocessing.StandardScaler()\n",
    "X_scalered= scalar.fit_transform(X)\n"
   ],
   "metadata": {
    "id": "S08A04byIay7",
    "is_executing": true
   },
   "execution_count": null,
   "outputs": []
  },
  {
   "cell_type": "markdown",
   "source": [
    "# Divide X and y as train, test sets"
   ],
   "metadata": {
    "id": "i5O5uCtyMfv7"
   }
  },
  {
   "cell_type": "code",
   "source": [
    "from sklearn.model_selection import train_test_split\n",
    "X_train, X_test, y_train, y_test = train_test_split(X_scalered, y, test_size = 0.2, random_state = 0)\n",
    "smote = SMOTE(random_state=42)\n",
    "X_resampled, y_resampled = smote.fit_resample(X_train, y_train)"
   ],
   "metadata": {
    "id": "N8pGzkKtMfKD",
    "is_executing": true
   },
   "execution_count": null,
   "outputs": []
  },
  {
   "cell_type": "markdown",
   "source": [
    "#Model_construction"
   ],
   "metadata": {
    "id": "zuetlo6BNL9x"
   }
  },
  {
   "cell_type": "code",
   "source": [
    "import sklearn.ensemble\n",
    "clf = sklearn.ensemble.RandomForestClassifier(n_estimators=100,max_depth=300, random_state=1)\n",
    "clf.fit(X_resampled, y_resampled)\n",
    "y_predict = clf.predict(X_test)"
   ],
   "metadata": {
    "id": "FyrLOYNpW7Dw",
    "is_executing": true
   },
   "execution_count": null,
   "outputs": []
  },
  {
   "cell_type": "markdown",
   "source": [
    "Confusion matrix"
   ],
   "metadata": {
    "id": "nTb6inEwY2Uc"
   }
  },
  {
   "cell_type": "code",
   "source": [
    "from sklearn.metrics import confusion_matrix\n",
    "from sklearn.metrics import ConfusionMatrixDisplay\n",
    "import matplotlib.pyplot as plt\n",
    "cm = confusion_matrix(y_test, y_predict, labels=clf.classes_)\n",
    "disp = ConfusionMatrixDisplay(confusion_matrix=cm,display_labels=clf.classes_)\n",
    "disp.plot()\n",
    "plt.show()"
   ],
   "metadata": {
    "colab": {
     "base_uri": "https://localhost:8080/",
     "height": 449
    },
    "id": "nNWwu28dY6oa",
    "outputId": "f6e3cdfa-6ca1-491c-d6ab-4bd787ccf00e",
    "is_executing": true
   },
   "execution_count": null,
   "outputs": []
  },
  {
   "cell_type": "markdown",
   "source": [
    "#Export the pickle model"
   ],
   "metadata": {
    "id": "Etz3Nq9ojqjy"
   }
  },
  {
   "cell_type": "code",
   "source": [
    "\n",
    "with open('random_forest_model.pkl', 'wb') as file:\n",
    "    pickle.dump(clf, file)"
   ],
   "metadata": {
    "id": "tTnue99vjvti",
    "is_executing": true
   },
   "execution_count": null,
   "outputs": []
  }
 ]
}
